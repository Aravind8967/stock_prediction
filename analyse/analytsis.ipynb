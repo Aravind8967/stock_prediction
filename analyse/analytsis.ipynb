{
 "cells": [
  {
   "cell_type": "code",
   "execution_count": 36,
   "metadata": {},
   "outputs": [],
   "source": [
    "import requests"
   ]
  },
  {
   "cell_type": "code",
   "execution_count": 41,
   "metadata": {},
   "outputs": [],
   "source": [
    "def test(c_name):\n",
    "    global response, data\n",
    "    api_url = f'http://localhost:5000/price_range/{c_name}'\n",
    "    response = requests.get(api_url)\n",
    "    response.raise_for_status()\n",
    "    data = response.json()\n",
    "    return data"
   ]
  },
  {
   "cell_type": "code",
   "execution_count": 42,
   "metadata": {},
   "outputs": [
    {
     "name": "stdout",
     "output_type": "stream",
     "text": [
      "[{'share_price': 424.15, 'time': '2025-02-07', 'volume': 18875982.0}, {'share_price': 420.56, 'time': '2025-02-10', 'volume': 12227140.0}, {'share_price': 411.8, 'time': '2025-02-11', 'volume': 14288751.0}, {'share_price': 409.9, 'time': '2025-02-12', 'volume': 13884574.0}, {'share_price': 409.7, 'time': '2025-02-13', 'volume': 12989029.0}, {'share_price': 410.25, 'time': '2025-02-14', 'volume': 14124236.0}, {'share_price': 408.6, 'time': '2025-02-17', 'volume': 11975265.0}, {'share_price': 405.25, 'time': '2025-02-18', 'volume': 12998403.0}, {'share_price': 406.4, 'time': '2025-02-19', 'volume': 7079032.0}, {'share_price': 402.05, 'time': '2025-02-20', 'volume': 15355585.0}, {'share_price': 400.9, 'time': '2025-02-21', 'volume': 8240986.0}, {'share_price': 401.9, 'time': '2025-02-24', 'volume': 7037625.0}, {'share_price': 404.85, 'time': '2025-02-25', 'volume': 15760891.0}, {'share_price': 401.6, 'time': '2025-02-27', 'volume': 19051003.0}, {'share_price': 395.0, 'time': '2025-02-28', 'volume': 31954776.0}, {'share_price': 397.45, 'time': '2025-03-03', 'volume': 10702826.0}, {'share_price': 394.85, 'time': '2025-03-04', 'volume': 13404774.0}, {'share_price': 405.05, 'time': '2025-03-05', 'volume': 15665018.0}, {'share_price': 405.7, 'time': '2025-03-06', 'volume': 17869996.0}, {'share_price': 403.9, 'time': '2025-03-07', 'volume': 11180761.0}]\n"
     ]
    }
   ],
   "source": [
    "print(test('ITC'))"
   ]
  }
 ],
 "metadata": {
  "kernelspec": {
   "display_name": "Python 3",
   "language": "python",
   "name": "python3"
  },
  "language_info": {
   "codemirror_mode": {
    "name": "ipython",
    "version": 3
   },
   "file_extension": ".py",
   "mimetype": "text/x-python",
   "name": "python",
   "nbconvert_exporter": "python",
   "pygments_lexer": "ipython3",
   "version": "3.9.11"
  }
 },
 "nbformat": 4,
 "nbformat_minor": 2
}
